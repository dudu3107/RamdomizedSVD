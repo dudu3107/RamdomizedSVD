{
 "cells": [
  {
   "cell_type": "markdown",
   "metadata": {},
   "source": [
    "# Randomized Singular Value Decomposition\n",
    "## Introduction:\n",
    "The goal of this project was to develop a randomized procedure for singular value decomposition in a way that is faster for massive scale matrix.\n",
    "\n",
    "The developed algorithms are based on the following article: https://arxiv.org/abs/0909.4061, using numpy tools.\n",
    "\n",
    "A secondary goal was to compare the direct implementation of the svd from numpy, with the randomized version proposed by this article, both in terms of precision and performance (time)."
   ]
  },
  {
   "cell_type": "code",
   "execution_count": 1,
   "metadata": {},
   "outputs": [],
   "source": [
    "import numpy as np\n",
    "import math\n",
    "import sklearn\n",
    "from sklearn.datasets import make_low_rank_matrix\n",
    "import matplotlib.pyplot as plt"
   ]
  },
  {
   "cell_type": "code",
   "execution_count": 2,
   "metadata": {},
   "outputs": [],
   "source": [
    "class RSVD:\n",
    "    p = 5\n",
    "    mu, sigma = 0, 1 \n",
    "    def __init__(self, A, epsilon, rank=None):\n",
    "        self.A = A\n",
    "        self.epsilon = epsilon\n",
    "        self.rank = rank\n",
    "        self.n = self.A.shape[1]\n",
    "        self.W = None\n",
    "        self.Q = None\n",
    "        if self.rank is not None:\n",
    "            if rank + 5 > self.n:\n",
    "                raise ValueError(\"Rank too high (rank + 5 must be inferior or equal to n)\")\n",
    "        \n",
    "        \n",
    "    def compute_orthogonal_base_Q_rank(self, mode):\n",
    "        '''\n",
    "        This method modifies the Q parameter of an object RSVD, with fixed rank.\n",
    "        The added parameter 'mode' here was added to be able to choose between two methods of creation of the matrix 'Y'.\n",
    "        \n",
    "                Parameters:\n",
    "                    mode (int): 0 if randomized gaussian distribution test matrix\n",
    "                                1 if random uniform sampling of the columns of A\n",
    "        '''\n",
    "        l = self.rank + self.p\n",
    "        if mode == 0:\n",
    "            self.W = np.random.normal(self.mu, self.sigma, (self.n, l))\n",
    "            Y = self.A @ self.W\n",
    "        else:\n",
    "            Y = self.A[:,np.random.randint(0,self.n-1,size=l)]\n",
    "        self.Q, _ = np.linalg.qr(Y, mode='reduced')\n",
    "        \n",
    "    def compute_orthogonal_base_Q_rank_with_factorisation(self, mode, it=2):\n",
    "        '''\n",
    "        This method modifies the Q parameter of an object RSVD, with fixed rank.\n",
    "        The added parameter 'it' here was added to choose the number of iteration of the additionnal factorisation.\n",
    "        \n",
    "                Parameters:\n",
    "                    mode (int): 0 if randomized gaussian distribution test matrix\n",
    "                                1 if random uniform sampling of the columns of A\n",
    "                    it (int): n number of factorisation iterations\n",
    "        '''\n",
    "        l = self.rank + self.p\n",
    "        if mode == 0:\n",
    "            self.W = np.random.normal(self.mu, self.sigma, (self.n, l))\n",
    "            Y = self.A @ self.W\n",
    "        else:\n",
    "            Y = self.A[:,np.random.randint(0,self.n-1,size=l)]\n",
    "        Q, _ = np.linalg.qr(Y, mode='reduced')\n",
    "        for _ in range(it):\n",
    "            Y = A.T @ Q\n",
    "            Q, _ = np.linalg.qr(Y, mode='reduced')\n",
    "            Y = A @ Q\n",
    "            Q, _ = np.linalg.qr(Y, mode='reduced')\n",
    "        self.Q = Q\n",
    "        \n",
    "    def compute_orthogonal_base_Q_epsilon(self):\n",
    "        '''\n",
    "        This method modifies the Q parameter of an object RSVD, with fixed precision.\n",
    "        '''\n",
    "        r = 10\n",
    "        W = np.random.normal(self.mu, self.sigma, (self.n, r))\n",
    "        Y = A @ W\n",
    "        m = self.A.shape[0]\n",
    "        Q = np.zeros((m, 1))\n",
    "        j = 0\n",
    "        while np.linalg.norm(Y[:, j+1:], axis=1).max() > self.epsilon/(10*(2/math.pi)**0.5):\n",
    "            j += 1\n",
    "            I = np.identity(m)\n",
    "            Y[:, j] = (I - Q @ Q.T) @ Y[:, j]\n",
    "            q = Y[:, j] / np.linalg.norm(Y[:, j])\n",
    "            Q = np.c_[Q, q]\n",
    "            wr = np.random.normal(self.mu, self.sigma, self.n)\n",
    "            Y = np.c_[Y, ((I - Q @ Q.T) @ (A @ wr))]\n",
    "            Y[:, j+1:j+r] -= np.tile(q, (r-1, 1)).T * np.dot(q, Y[:, j+1:j+r])\n",
    "        self.Q = Q[:, 1:]\n",
    "        \n",
    "    def compute_orthogonal_base_Q_epsilon_with_factorisation(self, it=2):\n",
    "        '''\n",
    "        This method modifies the Q parameter of an object RSVD, with fixed precision.\n",
    "        The added parameter 'it' here was added to choose the number of iteration of the additionnal factorisation.\n",
    "        \n",
    "                Parameters:\n",
    "                    it (int): n number of factorisation iterations\n",
    "        '''\n",
    "        r = 10\n",
    "        W = np.random.normal(self.mu, self.sigma, (self.n, r))\n",
    "        Y = A @ W\n",
    "        Qbis, _ = np.linalg.qr(Y, mode='reduced')\n",
    "        for _ in range(it):\n",
    "            Y = A.T @ Qbis\n",
    "            Qbis, _ = np.linalg.qr(Y, mode='reduced')\n",
    "            Y = A @ Qbis\n",
    "            Qbis, _ = np.linalg.qr(Y, mode='reduced')\n",
    "        m = self.A.shape[0]\n",
    "        Q = np.zeros((m, 1))\n",
    "        j = 0\n",
    "        while np.linalg.norm(Y[:, j+1:], axis=1).max() > self.epsilon/(10*(2/math.pi)**0.5):\n",
    "            j += 1\n",
    "            I = np.identity(m)\n",
    "            Y[:, j] = (I - Q @ Q.T) @ Y[:, j]\n",
    "            q = Y[:, j] / np.linalg.norm(Y[:, j])\n",
    "            Q = np.c_[Q, q]\n",
    "            wr = np.random.normal(self.mu, self.sigma, self.n)\n",
    "            Y = np.c_[Y, ((I - Q @ Q.T) @ (A @ wr))]\n",
    "            Y[:, j+1:j+r] -= np.tile(q, (r-1, 1)).T * np.dot(q, Y[:, j+1:j+r])\n",
    "        self.Q = Q[:, 1:]\n",
    "            \n",
    "        \n",
    "    def compute_svd(self):\n",
    "        '''\n",
    "        This method computes rsvd and returns the singular vectors and values.\n",
    "        \n",
    "                Returns:\n",
    "                    U (numpy.array):  left-singular vectors\n",
    "                    S (numpy.array):  singular values\n",
    "                    VT (numpy.array): right-singular vectors\n",
    "        '''\n",
    "        B = self.Q.T @ self.A\n",
    "        U_tilde, S, VT = np.linalg.svd(B,full_matrices=0)\n",
    "        U = self.Q @ U_tilde\n",
    "        return U, S, VT\n",
    "    \n",
    "    def compute_svd_truncation(self):\n",
    "        '''\n",
    "        This method computes rsvd and returns only the r (rank) singular vectors and values.\n",
    "        \n",
    "                Returns:\n",
    "                    U (numpy.array):  left-singular vectors\n",
    "                    S (numpy.array):  singular values\n",
    "                    VT (numpy.array): right-singular vectors\n",
    "        '''\n",
    "        B = self.Q.T @ self.A\n",
    "        U_tilde, S, VT = np.linalg.svd(B,full_matrices=0)\n",
    "        U = self.Q @ U_tilde\n",
    "        if self.rank is None:\n",
    "            return U, S, VT\n",
    "        else:\n",
    "            return U[:,:self.rank], S[:self.rank], VT[:self.rank,:]"
   ]
  },
  {
   "cell_type": "markdown",
   "metadata": {},
   "source": [
    "## Implementation examples and plots of analysis\n",
    "The following section includes examples of utilisation of the previous class RSDV, and plots comparing results obtained with the direct and randomized approach.\n",
    "### Definitions:"
   ]
  },
  {
   "cell_type": "code",
   "execution_count": 3,
   "metadata": {},
   "outputs": [
    {
     "name": "stdout",
     "output_type": "stream",
     "text": [
      "100\n"
     ]
    }
   ],
   "source": [
    "A = np.random.randint(0, 100, size=(100, 100))\n",
    "print(np.linalg.matrix_rank(A,0))\n",
    "U, S, VT = np.linalg.svd(A,full_matrices=0)\n",
    "#rsvd = RSVD(A, 1e-9)\n",
    "rsvd = RSVD(A, None, rank=80)\n",
    "#rsvd.compute_orthogonal_base_Q_rank(0)\n",
    "rsvd.compute_orthogonal_base_Q_rank_with_factorisation(0)\n",
    "U_tilde, s_tilde, VT_tilde = rsvd.compute_svd_truncation()"
   ]
  },
  {
   "cell_type": "markdown",
   "metadata": {},
   "source": [
    "The value 'np.linalg.matrix_rank(A,0)' is representing the rank of the matrix A."
   ]
  },
  {
   "cell_type": "code",
   "execution_count": 4,
   "metadata": {},
   "outputs": [
    {
     "name": "stdout",
     "output_type": "stream",
     "text": [
      "227.3489250452781\n"
     ]
    }
   ],
   "source": [
    "S_tilde = np.diag(s_tilde)\n",
    "A_tilde = U_tilde @ S_tilde @ VT_tilde\n",
    "print(np.linalg.norm(A-A_tilde))"
   ]
  },
  {
   "cell_type": "markdown",
   "metadata": {},
   "source": [
    "The value 'np.linalg.norm(A-A_tilde)' is representing the error of approximation between A and the approximate matrix A_tilde, which is the reconstructed version of A after rsvd."
   ]
  },
  {
   "cell_type": "code",
   "execution_count": 5,
   "metadata": {},
   "outputs": [
    {
     "data": {
      "text/plain": [
       "[<matplotlib.lines.Line2D at 0x7ff4d4ca0dd8>]"
      ]
     },
     "execution_count": 5,
     "metadata": {},
     "output_type": "execute_result"
    },
    {
     "data": {
      "image/png": "[encoded data removed]",
      "text/plain": [
       "<Figure size 432x288 with 1 Axes>"
      ]
     },
     "metadata": {
      "needs_background": "light"
     },
     "output_type": "display_data"
    }
   ],
   "source": [
    "A = sklearn.datasets.make_low_rank_matrix(100,100,100)\n",
    "U, sFR, VT = np.linalg.svd(A,full_matrices=0)\n",
    "A = sklearn.datasets.make_low_rank_matrix(100,100,80)\n",
    "U, sHR, VT = np.linalg.svd(A,full_matrices=0)\n",
    "A = sklearn.datasets.make_low_rank_matrix(100,100,20)\n",
    "U, sLR, VT = np.linalg.svd(A,full_matrices=0)\n",
    "plt.plot(range(len(sFR)),sFR)\n",
    "plt.plot(range(len(sHR)),sHR)\n",
    "plt.plot(range(len(sLR)),sLR)"
   ]
  },
  {
   "cell_type": "code",
   "execution_count": 6,
   "metadata": {},
   "outputs": [
    {
     "data": {
      "text/plain": [
       "[<matplotlib.lines.Line2D at 0x7ff4d47ff668>]"
      ]
     },
     "execution_count": 6,
     "metadata": {},
     "output_type": "execute_result"
    },
    {
     "data": {
      "image/png": "[encoded data removed]",
      "text/plain": [
       "<Figure size 432x288 with 1 Axes>"
      ]
     },
     "metadata": {
      "needs_background": "light"
     },
     "output_type": "display_data"
    }
   ],
   "source": [
    "import scipy as sc\n",
    "\n",
    "sparse_data = sc.io.mmread('662_bus.mtx')\n",
    "Z = sparse_data.toarray()\n",
    "\n",
    "U, s, VT = np.linalg.svd(Z,full_matrices=0)\n",
    "plt.plot(range(len(s)),s)"
   ]
  },
  {
   "cell_type": "markdown",
   "metadata": {},
   "source": [
    "### -------- High rank --------\n",
    "This part focuses on the use of rsvd in the case of high rank matrices.\n",
    "The matrix used as an example here is of shape (1000,1000), and of effective rank 800."
   ]
  },
  {
   "cell_type": "markdown",
   "metadata": {},
   "source": [
    "#### Fixed-rank\n",
    "This comparison details the errors discrepancies between the fixed-rank, and factorized fixed-rank versions."
   ]
  },
  {
   "cell_type": "code",
   "execution_count": 7,
   "metadata": {},
   "outputs": [],
   "source": [
    "n = 995\n",
    "A = sklearn.datasets.make_low_rank_matrix(1000,1000,800)\n",
    "erreurs, erreurs2 = [], []\n",
    "for index in range(10,n,10):\n",
    "    rsvd = RSVD(A, None, rank=index)\n",
    "    rsvd2 = RSVD(A, None, rank=index)\n",
    "    rsvd.compute_orthogonal_base_Q_rank_with_factorisation(0)\n",
    "    rsvd2.compute_orthogonal_base_Q_rank(0)\n",
    "    U_tilde, s_tilde, VT_tilde = rsvd.compute_svd_truncation()\n",
    "    U_tilde2, s_tilde2, VT_tilde2 = rsvd2.compute_svd_truncation()\n",
    "    S_tilde = np.diag(s_tilde)\n",
    "    S_tilde2 = np.diag(s_tilde2)\n",
    "    A_tilde = U_tilde @ S_tilde @ VT_tilde\n",
    "    A_tilde2 = U_tilde2 @ S_tilde2 @ VT_tilde2\n",
    "    erreurs.append(np.linalg.norm(A-A_tilde)/np.linalg.norm(A))\n",
    "    erreurs2.append(np.linalg.norm(A-A_tilde2)/np.linalg.norm(A))"
   ]
  },
  {
   "cell_type": "code",
   "execution_count": 8,
   "metadata": {},
   "outputs": [
    {
     "data": {
      "image/png": "[encoded data removed]",
      "text/plain": [
       "<Figure size 432x288 with 1 Axes>"
      ]
     },
     "metadata": {
      "needs_background": "light"
     },
     "output_type": "display_data"
    }
   ],
   "source": [
    "plt.plot(range(10,n,10),erreurs,'r',label='factorisation')\n",
    "plt.plot(range(10,n,10),erreurs2,'b',label='standard')\n",
    "plt.xlabel('rank')\n",
    "plt.ylabel('normalized error')\n",
    "plt.legend()\n",
    "plt.show()"
   ]
  },
  {
   "cell_type": "markdown",
   "metadata": {},
   "source": [
    "As we can see first here, the error decreases as the rank increases.\n",
    "\n",
    "Furthermore, with the factorisation, the error is reduced, and the resulting curve is slightly smoother.\n",
    "\n",
    "Factorisation is recommended is this case, because of the slow decay of the singular values, as was previously exposed.\n",
    "\n",
    "The factorisation modifies the singular values for a faster decay."
   ]
  },
  {
   "cell_type": "code",
   "execution_count": 9,
   "metadata": {},
   "outputs": [],
   "source": [
    "A = sklearn.datasets.make_low_rank_matrix(100,100,80)\n",
    "erreurs, erreurs2 = [], []\n",
    "for index in range(95):\n",
    "    rsvd = RSVD(A, None, rank=index)\n",
    "    rsvd2 = RSVD(A, None, rank=index)\n",
    "    rsvd.compute_orthogonal_base_Q_rank_with_factorisation(0)\n",
    "    rsvd2.compute_orthogonal_base_Q_rank_with_factorisation(1)\n",
    "    U_tilde, s_tilde, VT_tilde = rsvd.compute_svd_truncation()\n",
    "    U_tilde2, s_tilde2, VT_tilde2 = rsvd2.compute_svd_truncation()\n",
    "    S_tilde = np.diag(s_tilde)\n",
    "    S_tilde2 = np.diag(s_tilde2)\n",
    "    A_tilde = U_tilde @ S_tilde @ VT_tilde\n",
    "    A_tilde2 = U_tilde2 @ S_tilde2 @ VT_tilde2\n",
    "    erreurs.append(np.linalg.norm(A-A_tilde)/np.linalg.norm(A))\n",
    "    erreurs2.append(np.linalg.norm(A-A_tilde2)/np.linalg.norm(A))"
   ]
  },
  {
   "cell_type": "code",
   "execution_count": 10,
   "metadata": {},
   "outputs": [
    {
     "data": {
      "image/png": "[encoded data removed]",
      "text/plain": [
       "<Figure size 432x288 with 1 Axes>"
      ]
     },
     "metadata": {
      "needs_background": "light"
     },
     "output_type": "display_data"
    }
   ],
   "source": [
    "plt.plot(range(85,95),erreurs[:10],'r',label='mode 0')\n",
    "plt.plot(range(85,95),erreurs2[:10],'b',label='mode 1')\n",
    "plt.xlabel('rank')\n",
    "plt.ylabel('normalized error')\n",
    "plt.legend()\n",
    "plt.show()"
   ]
  },
  {
   "cell_type": "markdown",
   "metadata": {},
   "source": [
    "The difference between the methods of genereration of the test matrix is not significant."
   ]
  },
  {
   "cell_type": "markdown",
   "metadata": {},
   "source": [
    "#### Comparison between truncated matrix A and randomized fixed-rank svd (precision)"
   ]
  },
  {
   "cell_type": "code",
   "execution_count": 11,
   "metadata": {},
   "outputs": [
    {
     "name": "stdout",
     "output_type": "stream",
     "text": [
      "0.3256866580078294\n",
      "0.3969401454350575\n"
     ]
    }
   ],
   "source": [
    "A = sklearn.datasets.make_low_rank_matrix(100,100,80)\n",
    "U, s, VT = np.linalg.svd(A,full_matrices=0)\n",
    "S = np.diag(s[:80])\n",
    "A_80_svd = U[:,:80] @ S @ VT[:80,:]\n",
    "rsvd = RSVD(A, None, rank=80)\n",
    "rsvd.compute_orthogonal_base_Q_rank(0)\n",
    "U_tilde, s_tilde, VT_tilde = rsvd.compute_svd_truncation()\n",
    "S_tilde = np.diag(s_tilde)\n",
    "A_tilde = U_tilde @ S_tilde @ VT_tilde\n",
    "print(np.linalg.norm(A_80_svd-A)/np.linalg.norm(A))\n",
    "print(np.linalg.norm(A_tilde-A)/np.linalg.norm(A))"
   ]
  },
  {
   "cell_type": "markdown",
   "metadata": {},
   "source": [
    "Our approach is close to the norm of the truncated version of A, which is the best low-rank representation of matrix A.\n",
    "\n",
    "As we will see below, this method has the advantages of time performance and memory efficiency."
   ]
  },
  {
   "cell_type": "markdown",
   "metadata": {},
   "source": [
    "#### Comparison between normal and randomized fixed-rank svd (time), normal and randomized fixed precision svd (time)"
   ]
  },
  {
   "cell_type": "code",
   "execution_count": 12,
   "metadata": {},
   "outputs": [],
   "source": [
    "A = sklearn.datasets.make_low_rank_matrix(2000,2000,1600)"
   ]
  },
  {
   "cell_type": "code",
   "execution_count": 13,
   "metadata": {},
   "outputs": [
    {
     "name": "stdout",
     "output_type": "stream",
     "text": [
      "2.06 s ± 27.9 ms per loop (mean ± std. dev. of 7 runs, 1 loop each)\n"
     ]
    }
   ],
   "source": [
    "%%timeit\n",
    "U, s, VT = np.linalg.svd(A,full_matrices=0)"
   ]
  },
  {
   "cell_type": "code",
   "execution_count": 14,
   "metadata": {},
   "outputs": [
    {
     "name": "stdout",
     "output_type": "stream",
     "text": [
      "51 ms ± 313 µs per loop (mean ± std. dev. of 7 runs, 10 loops each)\n"
     ]
    }
   ],
   "source": [
    "%%timeit\n",
    "rsvd = RSVD(A, None, rank=80)\n",
    "rsvd.compute_orthogonal_base_Q_rank(0)\n",
    "U_tilde, s_tilde, VT_tilde = rsvd.compute_svd_truncation()"
   ]
  },
  {
   "cell_type": "code",
   "execution_count": 15,
   "metadata": {},
   "outputs": [
    {
     "name": "stdout",
     "output_type": "stream",
     "text": [
      "16.6 ms ± 113 µs per loop (mean ± std. dev. of 7 runs, 100 loops each)\n"
     ]
    }
   ],
   "source": [
    "%%timeit\n",
    "rsvd = RSVD(A, 10)\n",
    "rsvd.compute_orthogonal_base_Q_epsilon_with_factorisation()\n",
    "U_tilde, s_tilde, VT_tilde = rsvd.compute_svd_truncation()"
   ]
  },
  {
   "cell_type": "markdown",
   "metadata": {},
   "source": [
    "As we can see the small loss in precision is here justified by an important gain in speed, especially for the fixed rank case.\n",
    "\n",
    "Normally for the fixed precision case, the extra computational cost would be relevant, but as we had to reimplement it with an explicit python loop instead of a c++ loop (numpy vectorized)."
   ]
  },
  {
   "cell_type": "markdown",
   "metadata": {},
   "source": [
    "### -------- Low rank --------\n",
    "This part focuses on the use of rsvd in the case of low rank matrices.\n",
    "The matrix used as an example here is of shape (1000,1000), and of effective rank 200."
   ]
  },
  {
   "cell_type": "markdown",
   "metadata": {},
   "source": [
    "#### Fixed rank\n",
    "This comparison details the errors discrepancies between the fixed-rank, and factorized fixed-rank versions."
   ]
  },
  {
   "cell_type": "code",
   "execution_count": 16,
   "metadata": {},
   "outputs": [],
   "source": [
    "n = 995\n",
    "A = sklearn.datasets.make_low_rank_matrix(1000,1000,200)\n",
    "erreurs, erreurs2 = [], []\n",
    "for index in range(10,n,10):\n",
    "    rsvd = RSVD(A, None, rank=index)\n",
    "    rsvd2 = RSVD(A, None, rank=index)\n",
    "    rsvd.compute_orthogonal_base_Q_rank_with_factorisation(0)\n",
    "    rsvd2.compute_orthogonal_base_Q_rank(0)\n",
    "    U_tilde, s_tilde, VT_tilde = rsvd.compute_svd_truncation()\n",
    "    U_tilde2, s_tilde2, VT_tilde2 = rsvd2.compute_svd_truncation()\n",
    "    S_tilde = np.diag(s_tilde)\n",
    "    S_tilde2 = np.diag(s_tilde2)\n",
    "    A_tilde = U_tilde @ S_tilde @ VT_tilde\n",
    "    A_tilde2 = U_tilde2 @ S_tilde2 @ VT_tilde2\n",
    "    erreurs.append(np.linalg.norm(A-A_tilde)/np.linalg.norm(A))\n",
    "    erreurs2.append(np.linalg.norm(A-A_tilde2)/np.linalg.norm(A))"
   ]
  },
  {
   "cell_type": "code",
   "execution_count": 17,
   "metadata": {},
   "outputs": [
    {
     "data": {
      "image/png": "[encoded data removed]",
      "text/plain": [
       "<Figure size 432x288 with 1 Axes>"
      ]
     },
     "metadata": {
      "needs_background": "light"
     },
     "output_type": "display_data"
    }
   ],
   "source": [
    "plt.plot(range(10,n,10),erreurs,'r',label='factorisation')\n",
    "plt.plot(range(10,n,10),erreurs2,'b',label='standard')\n",
    "plt.xlabel('rank')\n",
    "plt.ylabel('normalized error')\n",
    "plt.legend()\n",
    "plt.show()"
   ]
  },
  {
   "cell_type": "markdown",
   "metadata": {},
   "source": [
    "As we can see first here, the error decreases as the rank increases.\n",
    "\n",
    "Furthermore, with the factorisation, the error is reduced, and the resulting curve is slightly smoother.\n",
    "\n",
    "Factorisation is recommended is this case, because of the slow decay of the singular values.\n",
    "\n",
    "The factorisation modifies the singular values for a faster decay."
   ]
  },
  {
   "cell_type": "code",
   "execution_count": 18,
   "metadata": {},
   "outputs": [],
   "source": [
    "A = sklearn.datasets.make_low_rank_matrix(100,100,20)\n",
    "erreurs, erreurs2 = [], []\n",
    "for index in range(95):\n",
    "    rsvd = RSVD(A, None, rank=index)\n",
    "    rsvd2 = RSVD(A, None, rank=index)\n",
    "    rsvd.compute_orthogonal_base_Q_rank_with_factorisation(0)\n",
    "    rsvd2.compute_orthogonal_base_Q_rank_with_factorisation(1)\n",
    "    U_tilde, s_tilde, VT_tilde = rsvd.compute_svd_truncation()\n",
    "    U_tilde2, s_tilde2, VT_tilde2 = rsvd2.compute_svd_truncation()\n",
    "    S_tilde = np.diag(s_tilde)\n",
    "    S_tilde2 = np.diag(s_tilde2)\n",
    "    A_tilde = U_tilde @ S_tilde @ VT_tilde\n",
    "    A_tilde2 = U_tilde2 @ S_tilde2 @ VT_tilde2\n",
    "    erreurs.append(np.linalg.norm(A-A_tilde)/np.linalg.norm(A))\n",
    "    erreurs2.append(np.linalg.norm(A-A_tilde2)/np.linalg.norm(A))"
   ]
  },
  {
   "cell_type": "code",
   "execution_count": 19,
   "metadata": {},
   "outputs": [
    {
     "data": {
      "image/png": "[encoded data removed]",
      "text/plain": [
       "<Figure size 432x288 with 1 Axes>"
      ]
     },
     "metadata": {
      "needs_background": "light"
     },
     "output_type": "display_data"
    }
   ],
   "source": [
    "plt.plot(range(85,95),erreurs[:10],'r',label='mode 0')\n",
    "plt.plot(range(85,95),erreurs2[:10],'b',label='mode 1')\n",
    "plt.xlabel('rank')\n",
    "plt.ylabel('normalized error')\n",
    "plt.legend()\n",
    "plt.show()"
   ]
  },
  {
   "cell_type": "markdown",
   "metadata": {},
   "source": [
    "#### Fixed-precision"
   ]
  },
  {
   "cell_type": "code",
   "execution_count": 20,
   "metadata": {},
   "outputs": [],
   "source": [
    "A = sklearn.datasets.make_low_rank_matrix(100,100,20)\n",
    "grid = [10, 1, 1e-1, 1e-2, 1e-3, 1e-4, 1e-5]\n",
    "rankA_tilde, rankA_tilde2 = [], []\n",
    "for index in grid:\n",
    "    rsvd = RSVD(A, index)\n",
    "    rsvd2 = RSVD(A, index)\n",
    "    rsvd.compute_orthogonal_base_Q_epsilon_with_factorisation()\n",
    "    rsvd2.compute_orthogonal_base_Q_epsilon()\n",
    "    U_tilde, s_tilde, VT_tilde = rsvd.compute_svd_truncation()\n",
    "    U_tilde2, s_tilde2, VT_tilde2 = rsvd2.compute_svd_truncation()\n",
    "    S_tilde = np.diag(s_tilde)\n",
    "    S_tilde2 = np.diag(s_tilde2)\n",
    "    A_tilde = U_tilde @ S_tilde @ VT_tilde\n",
    "    A_tilde2 = U_tilde2 @ S_tilde2 @ VT_tilde2\n",
    "    rankA_tilde.append(rsvd.Q.shape[1])\n",
    "    rankA_tilde2.append(rsvd.Q.shape[1])"
   ]
  },
  {
   "cell_type": "code",
   "execution_count": 21,
   "metadata": {},
   "outputs": [
    {
     "data": {
      "image/png": "[encoded data removed]",
      "text/plain": [
       "<Figure size 432x288 with 1 Axes>"
      ]
     },
     "metadata": {
      "needs_background": "light"
     },
     "output_type": "display_data"
    }
   ],
   "source": [
    "plt.plot(grid,rankA_tilde,'r',label='factorisation')\n",
    "plt.plot(grid,rankA_tilde2,'b',linestyle='dashed',label='standard')\n",
    "plt.xlabel('rank')\n",
    "plt.ylabel('epsilon')\n",
    "plt.legend()\n",
    "plt.show()"
   ]
  },
  {
   "cell_type": "markdown",
   "metadata": {},
   "source": [
    "As the effective rank of the matrix decreases, the needed numbers of columns of the matrix decreases too."
   ]
  },
  {
   "cell_type": "markdown",
   "metadata": {},
   "source": [
    "#### Comparison between truncated matrix A and randomized fixed-rank svd (precision)"
   ]
  },
  {
   "cell_type": "code",
   "execution_count": 22,
   "metadata": {},
   "outputs": [
    {
     "name": "stdout",
     "output_type": "stream",
     "text": [
      "0.27144245246399307\n",
      "0.33542779801413936\n"
     ]
    }
   ],
   "source": [
    "A = sklearn.datasets.make_low_rank_matrix(100,100,20)\n",
    "U, s, VT = np.linalg.svd(A,full_matrices=0)\n",
    "S = np.diag(s[:80])\n",
    "A_80_svd = U[:,:80] @ S @ VT[:80,:]\n",
    "rsvd = RSVD(A, None, rank=80)\n",
    "rsvd.compute_orthogonal_base_Q_rank(0)\n",
    "U_tilde, s_tilde, VT_tilde = rsvd.compute_svd_truncation()\n",
    "S_tilde = np.diag(s_tilde)\n",
    "A_tilde = U_tilde @ S_tilde @ VT_tilde\n",
    "print(np.linalg.norm(A_80_svd-A)/np.linalg.norm(A))\n",
    "print(np.linalg.norm(A_tilde-A)/np.linalg.norm(A))"
   ]
  },
  {
   "cell_type": "markdown",
   "metadata": {},
   "source": [
    "Our approach is even closer to the result achieved in the high rank scenario, but the use of the truncated matrix is still better in precision.\n",
    "\n",
    "As we will see below, this method has the advantages of time performance and memory efficiency.\n",
    "\n",
    "As we commented above, the singular values in a high rank matrix decays slowly, so the factorisation is more important in this case, while in the low rank matrix the singular values decay much faster."
   ]
  },
  {
   "cell_type": "markdown",
   "metadata": {},
   "source": [
    "#### Comparison between normal and randomized fixed-rank svd (time), normal and randomized fixed precision svd (time)"
   ]
  },
  {
   "cell_type": "code",
   "execution_count": 23,
   "metadata": {},
   "outputs": [],
   "source": [
    "A = sklearn.datasets.make_low_rank_matrix(2000,2000,400)"
   ]
  },
  {
   "cell_type": "code",
   "execution_count": 24,
   "metadata": {},
   "outputs": [
    {
     "name": "stdout",
     "output_type": "stream",
     "text": [
      "1.55 s ± 82.2 ms per loop (mean ± std. dev. of 7 runs, 1 loop each)\n"
     ]
    }
   ],
   "source": [
    "%%timeit\n",
    "U, s, VT = np.linalg.svd(A,full_matrices=0)"
   ]
  },
  {
   "cell_type": "code",
   "execution_count": 25,
   "metadata": {},
   "outputs": [
    {
     "name": "stdout",
     "output_type": "stream",
     "text": [
      "54.4 ms ± 434 µs per loop (mean ± std. dev. of 7 runs, 10 loops each)\n"
     ]
    }
   ],
   "source": [
    "%%timeit\n",
    "rsvd = RSVD(A, None, rank=80)\n",
    "rsvd.compute_orthogonal_base_Q_rank(0)\n",
    "U_tilde, s_tilde, VT_tilde = rsvd.compute_svd_truncation()"
   ]
  },
  {
   "cell_type": "code",
   "execution_count": 26,
   "metadata": {},
   "outputs": [
    {
     "name": "stdout",
     "output_type": "stream",
     "text": [
      "16.7 ms ± 144 µs per loop (mean ± std. dev. of 7 runs, 100 loops each)\n"
     ]
    }
   ],
   "source": [
    "%%timeit\n",
    "rsvd = RSVD(A, 10)\n",
    "rsvd.compute_orthogonal_base_Q_epsilon_with_factorisation()\n",
    "U_tilde, s_tilde, VT_tilde = rsvd.compute_svd_truncation()"
   ]
  },
  {
   "cell_type": "markdown",
   "metadata": {},
   "source": [
    "Here we have results similar to the high rank matrix case."
   ]
  }
 ],
 "metadata": {
  "kernelspec": {
   "display_name": "Python 3",
   "language": "python",
   "name": "python3"
  },
  "language_info": {
   "codemirror_mode": {
    "name": "ipython",
    "version": 3
   },
   "file_extension": ".py",
   "mimetype": "text/x-python",
   "name": "python",
   "nbconvert_exporter": "python",
   "pygments_lexer": "ipython3",
   "version": "3.6.11"
  }
 },
 "nbformat": 4,
 "nbformat_minor": 4
}
